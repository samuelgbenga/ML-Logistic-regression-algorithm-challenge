{
  "nbformat": 4,
  "nbformat_minor": 0,
  "metadata": {
    "colab": {
      "name": "Assingment1.ipynb",
      "provenance": [],
      "collapsed_sections": [],
      "authorship_tag": "ABX9TyN9rC809SPTcqXO3FIOntFd",
      "include_colab_link": true
    },
    "kernelspec": {
      "name": "python3",
      "display_name": "Python 3"
    }
  },
  "cells": [
    {
      "cell_type": "markdown",
      "metadata": {
        "id": "view-in-github",
        "colab_type": "text"
      },
      "source": [
        "<a href=\"https://colab.research.google.com/github/samuelgbenga/ML-Logistic-regression-algorithm-challenge/blob/master/Assingment1.ipynb\" target=\"_parent\"><img src=\"https://colab.research.google.com/assets/colab-badge.svg\" alt=\"Open In Colab\"/></a>"
      ]
    },
    {
      "cell_type": "markdown",
      "metadata": {
        "id": "hEGTWwclrAwW",
        "colab_type": "text"
      },
      "source": [
        "import libraries\n"
      ]
    },
    {
      "cell_type": "code",
      "metadata": {
        "id": "7qcnzz26rC_w",
        "colab_type": "code",
        "outputId": "41f80ae3-98aa-4c0a-e2ae-5416176bba30",
        "colab": {
          "base_uri": "https://localhost:8080/",
          "height": 195
        }
      },
      "source": [
        "# Importing libraries\n",
        "import numpy as np\n",
        "import pandas as pd\n",
        "import matplotlib.pyplot as plt\n",
        "from sklearn.model_selection import train_test_split\n",
        "from math import exp\n",
        "plt.rcParams[\"figure.figsize\"] = (10, 6)\n",
        "\n",
        "data = pd.read_csv(\"data.csv\")\n",
        "data.head()"
      ],
      "execution_count": 0,
      "outputs": [
        {
          "output_type": "execute_result",
          "data": {
            "text/html": [
              "<div>\n",
              "<style scoped>\n",
              "    .dataframe tbody tr th:only-of-type {\n",
              "        vertical-align: middle;\n",
              "    }\n",
              "\n",
              "    .dataframe tbody tr th {\n",
              "        vertical-align: top;\n",
              "    }\n",
              "\n",
              "    .dataframe thead th {\n",
              "        text-align: right;\n",
              "    }\n",
              "</style>\n",
              "<table border=\"1\" class=\"dataframe\">\n",
              "  <thead>\n",
              "    <tr style=\"text-align: right;\">\n",
              "      <th></th>\n",
              "      <th>User ID</th>\n",
              "      <th>Gender</th>\n",
              "      <th>Age</th>\n",
              "      <th>EstimatedSalary</th>\n",
              "      <th>Purchased</th>\n",
              "    </tr>\n",
              "  </thead>\n",
              "  <tbody>\n",
              "    <tr>\n",
              "      <th>0</th>\n",
              "      <td>15624510</td>\n",
              "      <td>Male</td>\n",
              "      <td>19</td>\n",
              "      <td>19000</td>\n",
              "      <td>0</td>\n",
              "    </tr>\n",
              "    <tr>\n",
              "      <th>1</th>\n",
              "      <td>15810944</td>\n",
              "      <td>Male</td>\n",
              "      <td>35</td>\n",
              "      <td>20000</td>\n",
              "      <td>0</td>\n",
              "    </tr>\n",
              "    <tr>\n",
              "      <th>2</th>\n",
              "      <td>15668575</td>\n",
              "      <td>Female</td>\n",
              "      <td>26</td>\n",
              "      <td>43000</td>\n",
              "      <td>0</td>\n",
              "    </tr>\n",
              "    <tr>\n",
              "      <th>3</th>\n",
              "      <td>15603246</td>\n",
              "      <td>Female</td>\n",
              "      <td>27</td>\n",
              "      <td>57000</td>\n",
              "      <td>0</td>\n",
              "    </tr>\n",
              "    <tr>\n",
              "      <th>4</th>\n",
              "      <td>15804002</td>\n",
              "      <td>Male</td>\n",
              "      <td>19</td>\n",
              "      <td>76000</td>\n",
              "      <td>0</td>\n",
              "    </tr>\n",
              "  </tbody>\n",
              "</table>\n",
              "</div>"
            ],
            "text/plain": [
              "    User ID  Gender  Age  EstimatedSalary  Purchased\n",
              "0  15624510    Male   19            19000          0\n",
              "1  15810944    Male   35            20000          0\n",
              "2  15668575  Female   26            43000          0\n",
              "3  15603246  Female   27            57000          0\n",
              "4  15804002    Male   19            76000          0"
            ]
          },
          "metadata": {
            "tags": []
          },
          "execution_count": 6
        }
      ]
    },
    {
      "cell_type": "markdown",
      "metadata": {
        "id": "4Ob5spm_sFBi",
        "colab_type": "text"
      },
      "source": [
        "split data into training data and test data"
      ]
    },
    {
      "cell_type": "code",
      "metadata": {
        "id": "4PXxQBbesMQY",
        "colab_type": "code",
        "outputId": "c19a3ef4-da27-459d-fbf4-230f2791377c",
        "colab": {
          "base_uri": "https://localhost:8080/",
          "height": 374
        }
      },
      "source": [
        "# Visualizing the dataset\n",
        "plt.scatter(data['Age'], data['Purchased'])\n",
        "plt.show()\n",
        "\n",
        "\n",
        "# Divide the data training set and test set\n",
        "x_train, x_test, y_train, y_test = train_test_split(data['Age'], data['Purchased'], test_size = 0.20)"
      ],
      "execution_count": 0,
      "outputs": [
        {
          "output_type": "display_data",
          "data": {
            "image/png": "[encoded data removed]",
            "text/plain": [
              "<Figure size 720x432 with 1 Axes>"
            ]
          },
          "metadata": {
            "tags": [],
            "needs_background": "light"
          }
        }
      ]
    },
    {
      "cell_type": "code",
      "metadata": {
        "id": "uFdnQYTysmDO",
        "colab_type": "code",
        "colab": {}
      },
      "source": [
        "# Create the logistic regression model\n",
        "#  i applied gradient descent algorithm with cost function a.k.a loss function.\n",
        "# Helper function to normalize data\n",
        "def normalize(X):\n",
        "  return X - X.mean()\n",
        "\n",
        "# method to make prediction\n",
        "def predict(x, b0, b1):\n",
        "  return np.array([1 / (1 + exp(-1 * b0 + -1 * b1 * x)) for x in x])\n",
        "\n",
        "# method to train the model\n",
        "def logistic_regression(X, Y):\n",
        "\n",
        "  X = normalize(X)\n",
        "\n",
        "  b0 = 0\n",
        "  b1 = 0\n",
        "  L = 0.001\n",
        "  epochs = 150\n",
        "\n",
        "  for epochs in range(epochs):\n",
        "    y_pred = predict(X, b0, b1)\n",
        "    D_b0 = sum(y_pred - Y)\n",
        "    D_b1 = sum((y_pred - Y) * X)\n",
        "    b0 = b0 - ((L * D_b0)/ len(y_pred))\n",
        "    b1 = b1 - ((L * D_b1)/ len(y_pred))\n",
        "\n",
        "    return b0, b1\n"
      ],
      "execution_count": 0,
      "outputs": []
    },
    {
      "cell_type": "markdown",
      "metadata": {
        "id": "SVQ0WKUGTixi",
        "colab_type": "text"
      },
      "source": [
        "This is where the program calculate the accuracy and using the using the gradient descent algorithm the first code. Applying our trained model..."
      ]
    },
    {
      "cell_type": "code",
      "metadata": {
        "id": "eA32MrgZVJ9K",
        "colab_type": "code",
        "outputId": "8a197148-2506-4b9e-b035-654355bce8f1",
        "colab": {
          "base_uri": "https://localhost:8080/",
          "height": 391
        }
      },
      "source": [
        "b0, b1 = logistic_regression(x_train, y_train)\n",
        "\n",
        "X_test_norm = normalize(x_test)\n",
        "y_pred = predict(X_test_norm, b0, b1)\n",
        "y_pred = [1 if y >= 0.5 else 0 for y in y_pred]\n",
        "y_pred\n",
        "\n",
        "plt.scatter(x_test, y_pred)\n",
        "\n",
        "accuracy = 0\n",
        "for i in range(len(y_pred)):\n",
        "  if y_pred[i] == y_test.iloc[i]:\n",
        "    accuracy += 1\n",
        "print(f\"Accuracy = {accuracy /len(y_pred)}\")\n"
      ],
      "execution_count": 0,
      "outputs": [
        {
          "output_type": "stream",
          "text": [
            "Accuracy = 0.725\n"
          ],
          "name": "stdout"
        },
        {
          "output_type": "display_data",
          "data": {
            "image/png": "[encoded data removed]",
            "text/plain": [
              "<Figure size 720x432 with 1 Axes>"
            ]
          },
          "metadata": {
            "tags": [],
            "needs_background": "light"
          }
        }
      ]
    },
    {
      "cell_type": "markdown",
      "metadata": {
        "id": "n11sCWYRWiPp",
        "colab_type": "text"
      },
      "source": [
        "Logistic regression function impleminting gradient ascent with maximum likelihood"
      ]
    },
    {
      "cell_type": "code",
      "metadata": {
        "id": "IFkCoZHEWgCi",
        "colab_type": "code",
        "colab": {}
      },
      "source": [
        "# Create the logistic regression model\n",
        "# i applied gradient ascent with MLE\n",
        "# Helper function to normalize data\n",
        "def normalize(X):\n",
        "  return X - X.mean()\n",
        "\n",
        "# method to make prediction\n",
        "def predict(x, b0, b1):\n",
        "  return np.array([1 / (1 + exp(-1 * b0 + -1 * b1 * x)) for x in x])\n",
        "\n",
        "# method to train the model\n",
        "def logistic_regression(X, Y):\n",
        "\n",
        "  X = normalize(X)\n",
        "\n",
        "  b0 = 0\n",
        "  b1 = 0\n",
        "  L = 0.001\n",
        "  epochs = 150\n",
        "\n",
        "  for epochs in range(epochs):\n",
        "    y_pred = predict(X, b0, b1)\n",
        "    D_b0 = sum(Y - y_pred)\n",
        "    D_b1 = sum((Y - y_pred) * X)\n",
        "    b0 = b0 + ((L * D_b0)/ len(y_pred))\n",
        "    b1 = b1 + ((L * D_b1)/ len(y_pred))\n",
        "\n",
        "    return b0, b1"
      ],
      "execution_count": 0,
      "outputs": []
    },
    {
      "cell_type": "markdown",
      "metadata": {
        "id": "diijH7RHYlU7",
        "colab_type": "text"
      },
      "source": [
        "This is where the program calculate the accuracy and using the using the gradient ascent algorithm the first code. Applying our trained model..."
      ]
    },
    {
      "cell_type": "code",
      "metadata": {
        "id": "YRC8oZveYqUf",
        "colab_type": "code",
        "outputId": "899b0692-472e-4464-f3c9-b2e0a7a12430",
        "colab": {
          "base_uri": "https://localhost:8080/",
          "height": 391
        }
      },
      "source": [
        "b0, b1 = logistic_regression(x_train, y_train)\n",
        "\n",
        "X_test_norm = normalize(x_test)\n",
        "y_pred = predict(X_test_norm, b0, b1)\n",
        "y_pred = [1 if y >= 0.5 else 0 for y in y_pred]\n",
        "y_pred\n",
        "\n",
        "plt.scatter(x_test, y_pred)\n",
        "\n",
        "accuracy = 0\n",
        "for i in range(len(y_pred)):\n",
        "  if y_pred[i] == y_test.iloc[i]:\n",
        "    accuracy += 1\n",
        "print(f\"Accuracy = {accuracy /len(y_pred)}\")\n"
      ],
      "execution_count": 0,
      "outputs": [
        {
          "output_type": "stream",
          "text": [
            "Accuracy = 0.725\n"
          ],
          "name": "stdout"
        },
        {
          "output_type": "display_data",
          "data": {
            "image/png": "[encoded data removed]",
            "text/plain": [
              "<Figure size 720x432 with 1 Axes>"
            ]
          },
          "metadata": {
            "tags": [],
            "needs_background": "light"
          }
        }
      ]
    }
  ]
}